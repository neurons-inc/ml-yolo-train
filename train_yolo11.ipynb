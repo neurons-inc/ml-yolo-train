{
 "cells": [
  {
   "cell_type": "markdown",
   "metadata": {},
   "source": [
    "# Train latest YOLO model"
   ]
  },
  {
   "cell_type": "code",
   "execution_count": null,
   "metadata": {},
   "outputs": [],
   "source": [
    "from ultralytics import YOLO\n",
    "# Automatically downloads and loads YOLOv11 model\n",
    "model = YOLO('yolo11n.pt')"
   ]
  },
  {
   "cell_type": "code",
   "execution_count": null,
   "metadata": {},
   "outputs": [],
   "source": [
    "import pandas as pd\n",
    "import matplotlib.pyplot as plt\n",
    "from src.config import *\n",
    "from tqdm.auto import tqdm\n",
    "import os"
   ]
  },
  {
   "cell_type": "code",
   "execution_count": null,
   "metadata": {},
   "outputs": [],
   "source": [
    "data_yaml = \"yolo_train.yaml\"\n",
    "\n",
    "args = {\n",
    "    \"task\": \"detection\",\n",
    "    \"mode\": \"train\",\n",
    "    \"epochs\": EPOCHS,\n",
    "    \"imgsz\": IMGSZ,\n",
    "    \"patience\": PATIENCE,\n",
    "    \"project\": PROJECT,\n",
    "    \"deterministic\": DETERMINISTIC,\n",
    "    \"optimizer\": OPTIMIZER,   \n",
    "    \"cos_lr\": COS_LR,\n",
    "    \"lr0\": LR0,\n",
    "    \"lrf\": LRF,\n",
    "    \"momentum\": MOMENTUM,\n",
    "    \"box\": BOX,\n",
    "    \"cls\": CLS,\n",
    "    \"weight_decay\": WEIGHT_DECAY,\n",
    "    \"warmup_epochs\": WARMUP_EPOCHS,\n",
    "    \"warmup_momentum\": WARMUP_MOMENTUM,\n",
    "    \"auto_augment\": AUTO_AUGMENT,\n",
    "    \"close_mosaic\": CLOSE_MOSAIC,\n",
    "    \"mosaic\": MOSAIC,\n",
    "    \"mixup\": MIXUP,\n",
    "    \"copy_paste\": COPY_PASTE\n",
    "}"
   ]
  },
  {
   "cell_type": "code",
   "execution_count": null,
   "metadata": {},
   "outputs": [],
   "source": [
    "# Train YOLO model\n",
    "local_device = model.device\n",
    "print(\"Training model on device: \", local_device)\n",
    "results = model.train(data = data_yaml, **args, device=local_device)\n",
    "print(\"Training complete. Model saved.\")"
   ]
  },
  {
   "cell_type": "code",
   "execution_count": null,
   "metadata": {},
   "outputs": [],
   "source": [
    "local_device = model.device\n",
    "print(\"Training model on device: \", local_device)\n",
    "results = model.train(\n",
    "    data=data_yaml, \n",
    "    model=\"src/models/best/best_yolo11x.pt\", \n",
    "    **args, device=local_device)"
   ]
  },
  {
   "cell_type": "markdown",
   "metadata": {},
   "source": [
    "### Visualise Training Results"
   ]
  },
  {
   "cell_type": "code",
   "execution_count": null,
   "metadata": {},
   "outputs": [],
   "source": [
    "# Load the CSV file\n",
    "results_csv = \"runs/train/train1/results.csv\"  # Path to your results.csv\n",
    "results_df = pd.read_csv(results_csv)\n",
    "\n",
    "# Extract metrics\n",
    "epochs = results_df['epoch']\n",
    "precision = results_df['metrics/precision(B)']\n",
    "recall = results_df['metrics/recall(B)']\n",
    "f1_score = 2 * (precision * recall) / (precision + recall)\n",
    "\n",
    "# Plot Precision, Recall, and F1-Score\n",
    "plt.figure(figsize=(10, 6))\n",
    "plt.plot(epochs, precision, label='Precision', marker='o')\n",
    "plt.plot(epochs, recall, label='Recall', marker='o')\n",
    "plt.plot(epochs, f1_score, label='F1-Score', marker='o')\n",
    "plt.xlabel('Epoch')\n",
    "plt.ylabel('Metric')\n",
    "plt.title('Precision, Recall, and F1-Score Over Epochs')\n",
    "plt.legend()\n",
    "plt.grid(True)\n",
    "plt.show()"
   ]
  },
  {
   "cell_type": "code",
   "execution_count": null,
   "metadata": {},
   "outputs": [],
   "source": [
    "def calculate_iou(box1, box2):\n",
    "    \"\"\"Calculate Intersection over Union (IoU) between two boxes.\"\"\"\n",
    "    x1, y1, x2, y2 = box1\n",
    "    x1g, y1g, x2g, y2g = box2\n",
    "\n",
    "    xi1, yi1 = max(x1, x1g), max(y1, y1g)\n",
    "    xi2, yi2 = min(x2, x2g), min(y2g, y2g)\n",
    "    inter_area = max(0, xi2 - xi1) * max(0, yi2 - yi1)\n",
    "\n",
    "    box1_area = (x2 - x1) * (y2 - y1)\n",
    "    box2_area = (x2g - x1g) * (y2g - y1g)\n",
    "    union_area = box1_area + box2_area - inter_area\n",
    "\n",
    "    return inter_area / union_area"
   ]
  },
  {
   "cell_type": "code",
   "execution_count": null,
   "metadata": {},
   "outputs": [],
   "source": [
    "# Load the trained model\n",
    "model = YOLO(\"runs/train/train1/weights/best.pt\")\n",
    "test_images_dir = \"data/images/val\"\n",
    "ground_truth_dir = \"data/labels/val\"\n",
    "\n",
    "results = model.predict(source=test_images_dir, save=False)\n",
    "total_tp, total_fp, total_fn = 0, 0, 0\n",
    "\n",
    "# Process each prediction\n",
    "for result in results:\n",
    "    img_path = result.path\n",
    "    gt_file = os.path.join(ground_truth_dir, os.path.splitext(os.path.basename(img_path))[0] + \".txt\")\n",
    "\n",
    "    # Load ground truth boxes\n",
    "    ground_truth_boxes = []\n",
    "    with open(gt_file, \"r\") as f:\n",
    "        for line in f.readlines():\n",
    "            _, x_center, y_center, width, height = map(float, line.strip().split())\n",
    "            img_h, img_w = result.orig_shape\n",
    "            x1 = int((x_center - width / 2) * img_w)\n",
    "            y1 = int((y_center - height / 2) * img_h)\n",
    "            x2 = int((x_center + width / 2) * img_w)\n",
    "            y2 = int((y_center + height / 2) * img_h)\n",
    "            ground_truth_boxes.append([x1, y1, x2, y2])\n",
    "\n",
    "    # Compare predictions to ground truth\n",
    "    tp, fp, fn = 0, 0, len(ground_truth_boxes)  # Start with all ground truth as false negatives\n",
    "    for box, conf, cls in zip(result.boxes.xyxy, result.boxes.conf, result.boxes.cls):\n",
    "        pred_box = [int(coord) for coord in box.tolist()]\n",
    "        matched = False\n",
    "        for gt_box in ground_truth_boxes:\n",
    "            iou = calculate_iou(pred_box, gt_box)\n",
    "            if iou > 0.5:\n",
    "                matched = True\n",
    "                tp += 1\n",
    "                fn -= 1\n",
    "                ground_truth_boxes.remove(gt_box)\n",
    "                break\n",
    "        if not matched:\n",
    "            fp += 1\n",
    "\n",
    "    total_tp += tp\n",
    "    total_fp += fp\n",
    "    total_fn += fn\n",
    "\n",
    "print(f\"True Positives (TP): {total_tp}\")\n",
    "print(f\"False Positives (FP): {total_fp}\")\n",
    "print(f\"False Negatives (FN): {total_fn}\")\n",
    "\n",
    "precision = total_tp / (total_tp + total_fp) if total_tp + total_fp > 0 else 0\n",
    "recall = total_tp / (total_tp + total_fn) if total_tp + total_fn > 0 else 0\n",
    "f1_score = 2 * precision * recall / (precision + recall) if precision + recall > 0 else 0\n",
    "print(f\"Precision: {precision:.4f}\")\n",
    "print(f\"Recall: {recall:.4f}\")\n",
    "print(f\"F1-Score: {f1_score:.4f}\")"
   ]
  }
 ],
 "metadata": {
  "kernelspec": {
   "display_name": "yolo_env",
   "language": "python",
   "name": "python3"
  },
  "language_info": {
   "codemirror_mode": {
    "name": "ipython",
    "version": 3
   },
   "file_extension": ".py",
   "mimetype": "text/x-python",
   "name": "python",
   "nbconvert_exporter": "python",
   "pygments_lexer": "ipython3",
   "version": "3.10.11"
  }
 },
 "nbformat": 4,
 "nbformat_minor": 2
}
